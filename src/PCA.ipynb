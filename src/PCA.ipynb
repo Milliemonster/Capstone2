{
 "cells": [
  {
   "cell_type": "code",
   "execution_count": 48,
   "metadata": {},
   "outputs": [],
   "source": [
    "from sklearn.decomposition import PCA\n",
    "from sklearn.preprocessing import StandardScaler\n",
    "import matplotlib.pyplot as plt\n",
    "from image_process_cs2 import data_preprocess\n",
    "from sklearn import preprocessing\n",
    "import numpy as np\n",
    "%matplotlib inline\n"
   ]
  },
  {
   "cell_type": "code",
   "execution_count": 92,
   "metadata": {},
   "outputs": [
    {
     "name": "stdout",
     "output_type": "stream",
     "text": [
      "214.png\n",
      "201.png\n",
      "177.png\n",
      "149.png\n",
      "161.png\n",
      "60.png\n",
      "48.png\n",
      "216.png\n"
     ]
    },
    {
     "name": "stderr",
     "output_type": "stream",
     "text": [
      "/Users/millie/anaconda3/lib/python3.6/site-packages/skimage/transform/_warps.py:110: UserWarning: Anti-aliasing will be enabled by default in skimage 0.15 to avoid aliasing artifacts when down-sampling images.\n",
      "  warn(\"Anti-aliasing will be enabled by default in skimage 0.15 to \"\n"
     ]
    },
    {
     "name": "stdout",
     "output_type": "stream",
     "text": [
      "61.png\n",
      "174.png\n",
      "148.png\n",
      "170.png\n",
      "212.png\n",
      "213.png\n",
      "171.png\n",
      "165.png\n",
      "173.png\n",
      "167.png\n",
      "198.png\n",
      "172.png\n",
      "317.png\n",
      "303.png\n",
      "115.png\n",
      "14.png\n",
      "28.png\n",
      "277.png\n",
      "288.png\n",
      "289.png\n",
      "276.png\n",
      "114.png\n",
      "302.png\n",
      "102.png\n",
      "116.png\n",
      "260.png\n",
      "329.png\n",
      "107.png\n",
      "113.png\n",
      "264.png\n",
      "13.png\n",
      "106.png\n",
      "310.png\n",
      "304.png\n",
      "312.png\n",
      "110.png\n",
      "138.png\n",
      "11.png\n",
      "266.png\n",
      "272.png\n",
      "273.png\n",
      "139.png\n",
      "105.png\n",
      "322.png\n",
      "35.png\n",
      "21.png\n",
      "280.png\n",
      "257.png\n",
      "243.png\n",
      "34.png\n",
      "135.png\n",
      "109.png\n",
      "337.png\n",
      "321.png\n",
      "255.png\n",
      "296.png\n",
      "297.png\n",
      "37.png\n",
      "122.png\n",
      "334.png\n",
      "324.png\n",
      "126.png\n",
      "27.png\n",
      "244.png\n",
      "293.png\n",
      "287.png\n",
      "292.png\n",
      "245.png\n",
      "32.png\n",
      "325.png\n",
      "327.png\n",
      "131.png\n",
      "125.png\n",
      "24.png\n",
      "247.png\n",
      "284.png\n",
      "291.png\n",
      "285.png\n",
      "25.png\n",
      "326.png\n",
      "95.png\n",
      "56.png\n",
      "209.png\n",
      "235.png\n",
      "234.png\n",
      "43.png\n",
      "156.png\n",
      "94.png\n",
      "140.png\n",
      "154.png\n",
      "55.png\n",
      "7.png\n",
      "183.png\n",
      "197.png\n",
      "223.png\n",
      "237.png\n",
      "40.png\n",
      "155.png\n",
      "141.png\n",
      "169.png\n",
      "83.png\n",
      "87.png\n",
      "226.png\n",
      "232.png\n",
      "3.png\n",
      "45.png\n",
      "86.png\n",
      "346.png\n",
      "191.png\n",
      "185.png\n",
      "46.png\n",
      "184.png\n",
      "176.png\n",
      "88.png\n",
      "375.png\n",
      "149.png\n",
      "399.png\n",
      "59.png\n",
      "398.png\n",
      "417.png\n",
      "403.png\n",
      "72.png\n",
      "67.png\n",
      "115.png\n",
      "539.png\n",
      "100.png\n",
      "114.png\n",
      "499.png\n",
      "17.png\n",
      "301.png\n",
      "311.png\n",
      "106.png\n",
      "310.png\n",
      "312.png\n",
      "104.png\n",
      "39.png\n",
      "272.png\n",
      "111.png\n",
      "322.png\n",
      "493.png\n",
      "487.png\n",
      "21.png\n",
      "242.png\n",
      "135.png\n",
      "451.png\n",
      "490.png\n",
      "526.png\n",
      "452.png\n",
      "320.png\n",
      "446.png\n",
      "27.png\n",
      "244.png\n",
      "457.png\n",
      "534.png\n",
      "25.png\n",
      "396.png\n",
      "56.png\n",
      "180.png\n",
      "209.png\n",
      "221.png\n",
      "57.png\n",
      "340.png\n",
      "426.png\n",
      "222.png\n",
      "223.png\n",
      "68.png\n",
      "54.png\n",
      "6.png\n",
      "169.png\n",
      "83.png\n",
      "419.png\n",
      "347.png\n",
      "435.png\n",
      "384.png\n",
      "151.png\n",
      "78.png\n",
      "186.png\n",
      "51.png\n",
      "187.png\n",
      "178.png\n",
      "144.png\n",
      "385.png\n",
      "408.png\n",
      "420.png\n",
      "422.png\n",
      "344.png\n",
      "90.png\n",
      "219.png\n",
      "52.png\n",
      "0.png\n",
      "88.png\n",
      "63.png\n",
      "200.png\n",
      "201.png\n",
      "62.png\n",
      "188.png\n",
      "149.png\n",
      "74.png\n",
      "48.png\n",
      "217.png\n",
      "75.png\n",
      "160.png\n",
      "148.png\n",
      "170.png\n",
      "59.png\n",
      "207.png\n",
      "70.png\n",
      "64.png\n",
      "167.png\n",
      "66.png\n",
      "211.png\n",
      "238.png\n",
      "199.png\n",
      "9.png\n",
      "317.png\n",
      "303.png\n",
      "115.png\n",
      "101.png\n",
      "288.png\n",
      "289.png\n",
      "15.png\n",
      "128.png\n",
      "314.png\n",
      "116.png\n",
      "17.png\n",
      "260.png\n",
      "16.png\n",
      "103.png\n",
      "315.png\n",
      "12.png\n",
      "13.png\n",
      "106.png\n",
      "11.png\n",
      "111.png\n",
      "322.png\n",
      "108.png\n",
      "134.png\n",
      "21.png\n",
      "256.png\n",
      "34.png\n",
      "121.png\n",
      "135.png\n",
      "323.png\n",
      "337.png\n",
      "22.png\n",
      "36.png\n",
      "296.png\n",
      "23.png\n",
      "320.png\n",
      "330.png\n",
      "318.png\n",
      "132.png\n",
      "33.png\n",
      "293.png\n",
      "292.png\n",
      "26.png\n",
      "319.png\n",
      "333.png\n",
      "125.png\n",
      "18.png\n",
      "30.png\n",
      "284.png\n",
      "252.png\n",
      "25.png\n",
      "31.png\n",
      "118.png\n",
      "341.png\n",
      "95.png\n",
      "56.png\n",
      "235.png\n",
      "220.png\n",
      "208.png\n",
      "181.png\n",
      "5.png\n",
      "57.png\n",
      "142.png\n",
      "80.png\n",
      "197.png\n",
      "196.png\n",
      "6.png\n",
      "343.png\n",
      "87.png\n",
      "179.png\n",
      "93.png\n",
      "186.png\n",
      "192.png\n",
      "44.png\n",
      "2.png\n",
      "226.png\n",
      "3.png\n",
      "193.png\n",
      "187.png\n",
      "178.png\n",
      "150.png\n",
      "144.png\n",
      "344.png\n",
      "152.png\n",
      "84.png\n",
      "191.png\n",
      "53.png\n",
      "1.png\n",
      "224.png\n",
      "219.png\n",
      "231.png\n",
      "46.png\n",
      "85.png\n",
      "147.png\n",
      "345.png\n"
     ]
    }
   ],
   "source": [
    "components, y = data_preprocess(['select/japanese_beetle', 'select/cucumber_beetle', 'select/ladybug'], (200,200,3), True)"
   ]
  },
  {
   "cell_type": "code",
   "execution_count": 93,
   "metadata": {},
   "outputs": [
    {
     "data": {
      "text/plain": [
       "(317, 120000)"
      ]
     },
     "execution_count": 93,
     "metadata": {},
     "output_type": "execute_result"
    }
   ],
   "source": [
    "components.shape"
   ]
  },
  {
   "cell_type": "code",
   "execution_count": 94,
   "metadata": {},
   "outputs": [],
   "source": [
    "scaler = StandardScaler(copy=True, with_mean=True, with_std=True)\n",
    "X_scaled = scaler.fit_transform(components) # standardize data"
   ]
  },
  {
   "cell_type": "code",
   "execution_count": 95,
   "metadata": {},
   "outputs": [
    {
     "name": "stdout",
     "output_type": "stream",
     "text": [
      "\n",
      "Data after PCA into 2 components\n",
      "PC1\tPC2\n",
      "280.5\t-92.7\n",
      "-100.6\t-109.5\n",
      "87.3\t-2.4\n",
      "-57.7\t-45.3\n",
      "146.2\t19.1\n"
     ]
    }
   ],
   "source": [
    "pca = PCA(n_components=2) #pca object\n",
    "X_pca = pca.fit_transform(X_scaled) # from 4 features to 2 PCA features\n",
    "\n",
    "print(\"\\nData after PCA into 2 components\")\n",
    "print(\"PC1\\tPC2\")\n",
    "for i in range(5):\n",
    "    print(\"{0:0.1f}\\t{1:0.1f}\".format(X_pca[i,0], X_pca[i,1]))"
   ]
  },
  {
   "cell_type": "code",
   "execution_count": 96,
   "metadata": {},
   "outputs": [
    {
     "data": {
      "image/png": "[encoded data removed]",
      "text/plain": [
       "<Figure size 576x432 with 1 Axes>"
      ]
     },
     "metadata": {
      "needs_background": "light"
     },
     "output_type": "display_data"
    }
   ],
   "source": [
    "le = preprocessing.LabelEncoder()\n",
    "le.fit([\"select/japanese_beetle\", \"select/cucumber_beetle\", \"select/ladybug\"])\n",
    "list(le.classes_)\n",
    "cm = le.transform(y) \n",
    "\n",
    "fig, ax = plt.subplots(1, 1, figsize=(8, 6))\n",
    "ax.scatter(X_pca[:, 0], X_pca[:, 1], c=cm,\n",
    "           cmap=plt.cm.Set1, edgecolor='k', s=40)\n",
    "ax.set_title(\"First two PCA directions\")\n",
    "ax.set_xlabel(\"1st eigenvector (PC1)\")\n",
    "ax.set_ylabel(\"2nd eigenvector (PC2)\");"
   ]
  },
  {
   "cell_type": "code",
   "execution_count": 97,
   "metadata": {},
   "outputs": [
    {
     "name": "stdout",
     "output_type": "stream",
     "text": [
      "[0.31256813 0.09488997]\n",
      "The 2 principal components explain 40.7% of the variance in the original data.\n"
     ]
    }
   ],
   "source": [
    "evr = pca.explained_variance_ratio_\n",
    "print(evr)\n",
    "print(\"The 2 principal components explain {0:0.1f}%\"\n",
    "      \" of the variance in the original data.\".format(evr.sum()*100))"
   ]
  },
  {
   "cell_type": "code",
   "execution_count": 98,
   "metadata": {},
   "outputs": [
    {
     "data": {
      "text/plain": [
       "PCA(copy=True, iterated_power='auto', n_components=None, random_state=None,\n",
       "  svd_solver='auto', tol=0.0, whiten=False)"
      ]
     },
     "execution_count": 98,
     "metadata": {},
     "output_type": "execute_result"
    }
   ],
   "source": [
    "from sklearn import decomposition, datasets\n",
    "pca = decomposition.PCA()\n",
    "pca.fit(X_scaled)"
   ]
  },
  {
   "cell_type": "code",
   "execution_count": 99,
   "metadata": {},
   "outputs": [],
   "source": [
    "total_variance = np.sum(pca.explained_variance_)\n",
    "cum_variance = np.cumsum(pca.explained_variance_)\n",
    "prop_var_expl = cum_variance/total_variance"
   ]
  },
  {
   "cell_type": "code",
   "execution_count": 100,
   "metadata": {},
   "outputs": [
    {
     "data": {
      "image/png": "[encoded data removed]",
      "text/plain": [
       "<Figure size 576x432 with 1 Axes>"
      ]
     },
     "metadata": {
      "needs_background": "light"
     },
     "output_type": "display_data"
    }
   ],
   "source": [
    "fig, ax = plt.subplots(figsize=(8,6))\n",
    "ax.plot(prop_var_expl, color = 'black', linewidth=2, label='Explained variance')\n",
    "ax.axhline(0.9, label='90% goal', linestyle='--', linewidth=1)\n",
    "ax.set_ylabel('proportion of explained variance')\n",
    "ax.set_xlabel('number of principal components')\n",
    "ax.legend();"
   ]
  },
  {
   "cell_type": "code",
   "execution_count": 91,
   "metadata": {},
   "outputs": [],
   "source": [
    "#120 components"
   ]
  },
  {
   "cell_type": "code",
   "execution_count": null,
   "metadata": {},
   "outputs": [],
   "source": []
  }
 ],
 "metadata": {
  "kernelspec": {
   "display_name": "Python 3",
   "language": "python",
   "name": "python3"
  },
  "language_info": {
   "codemirror_mode": {
    "name": "ipython",
    "version": 3
   },
   "file_extension": ".py",
   "mimetype": "text/x-python",
   "name": "python",
   "nbconvert_exporter": "python",
   "pygments_lexer": "ipython3",
   "version": "3.6.6"
  }
 },
 "nbformat": 4,
 "nbformat_minor": 2
}
